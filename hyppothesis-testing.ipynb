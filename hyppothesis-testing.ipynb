{
 "cells": [
  {
   "cell_type": "code",
   "execution_count": 1,
   "metadata": {},
   "outputs": [],
   "source": [
    "#importing the librarires\n",
    "import pandas as pd\n",
    "import numpy as np\n",
    "import matplotlib.pyplot as plt\n",
    "import seaborn as sns\n",
    "from scipy.stats import chi2_contingency\n",
    "%matplotlib inline"
   ]
  },
  {
   "cell_type": "code",
   "execution_count": 3,
   "metadata": {},
   "outputs": [],
   "source": [
    "#reading the csv file and subsetting the Netherlands country data only\n",
    "df = pd.read_csv('data.csv', sep='\\t')\n",
    "df = df[df['country']=='NL']"
   ]
  },
  {
   "cell_type": "code",
   "execution_count": 5,
   "metadata": {},
   "outputs": [
    {
     "data": {
      "image/png": "[encoded data removed]",
      "text/plain": [
       "<Figure size 432x288 with 1 Axes>"
      ]
     },
     "metadata": {
      "needs_background": "light"
     },
     "output_type": "display_data"
    }
   ],
   "source": [
    "#plotting the data of accuracy and age and then a linear regression line\n",
    "x = df.age\n",
    "y = df.accuracy\n",
    "_ =plt.plot(x, y, marker='.', linestyle='none', alpha=0.4)\n",
    "_ =plt.ylim(0,100)\n",
    "\n",
    "a,b = np.polyfit(x,y,1)\n",
    "\n",
    "_ = plt.plot(x, a*x + b, color='red')\n",
    "plt.xlabel('Age')\n",
    "plt.ylabel('Accuracy')\n",
    "plt.show()\n"
   ]
  },
  {
   "cell_type": "markdown",
   "metadata": {},
   "source": [
    "### no correlation seem to exist between the age and accuracy. the regression line is almost straight, there might be a non linear relationship but that cannot be confirmed with this approach."
   ]
  },
  {
   "cell_type": "code",
   "execution_count": 6,
   "metadata": {},
   "outputs": [
    {
     "name": "stdout",
     "output_type": "stream",
     "text": [
      "chi2 statistic 10.524383933147655, p-value 0.39575149109892366\n",
      "chi2 statistic 7.831979822112829, p-value 0.6452448421266488\n",
      "chi2 statistic 14.00953635576384, p-value 0.17255706944919597\n",
      "chi2 statistic 6.557789215104859, p-value 0.7664281771729189\n",
      "chi2 statistic 9.233290085537343, p-value 0.5101160070467887\n"
     ]
    }
   ],
   "source": [
    "#subsetting the dataset to only the last 5 question and the last few informative cols.\n",
    "#importing the chi2 from scipy\n",
    "#lopping over the questions and then running the chi2 test while displaying the values of the chi2 and p-value\n",
    "df = df.iloc[:,-11:]\n",
    "\n",
    "from scipy.stats import chi2_contingency\n",
    "cols = ['P6', 'P7', 'P8', 'P9', 'P10']\n",
    "for col in cols:\n",
    "    \n",
    "    chi2, p, dof, expected = chi2_contingency(pd.crosstab(df.gender,df[col]))\n",
    "    print(\"chi2 statistic {}, p-value {}\".format(chi2,p))\n"
   ]
  },
  {
   "cell_type": "markdown",
   "metadata": {},
   "source": [
    "### I chose to use the chi2 because it is dealing with categorical data. although the answers are numerical but they represent some sort of category. for instance 1 could be : very low and 5 would be: very high\n",
    "### in conclusion, the p values are all above 0.05. in chi2 we need them to be less than 0.05 to say that they are dependent. I am going to fail to reject the hypothesis by saying that the gender and the answers to the questions do not seem to be dependent but we need more evidence to confirm they are dependent."
   ]
  }
 ],
 "metadata": {
  "kernelspec": {
   "display_name": "Python 3",
   "language": "python",
   "name": "python3"
  },
  "language_info": {
   "codemirror_mode": {
    "name": "ipython",
    "version": 3
   },
   "file_extension": ".py",
   "mimetype": "text/x-python",
   "name": "python",
   "nbconvert_exporter": "python",
   "pygments_lexer": "ipython3",
   "version": "3.7.3"
  }
 },
 "nbformat": 4,
 "nbformat_minor": 2
}
